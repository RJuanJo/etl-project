{
 "cells": [
  {
   "cell_type": "code",
   "execution_count": 1,
   "metadata": {},
   "outputs": [
    {
     "name": "stdout",
     "output_type": "stream",
     "text": [
      "Requirement already satisfied: mysql in c:\\users\\juanj\\desktop\\etl\\data\\.venv\\lib\\site-packages (from -r ../config/requirements.txt (line 1)) (0.0.3)\n",
      "Requirement already satisfied: matplotlib in c:\\users\\juanj\\desktop\\etl\\data\\.venv\\lib\\site-packages (from -r ../config/requirements.txt (line 2)) (3.8.3)\n",
      "Requirement already satisfied: numpy in c:\\users\\juanj\\desktop\\etl\\data\\.venv\\lib\\site-packages (from -r ../config/requirements.txt (line 3)) (1.26.4)\n",
      "Requirement already satisfied: pandas in c:\\users\\juanj\\desktop\\etl\\data\\.venv\\lib\\site-packages (from -r ../config/requirements.txt (line 4)) (2.2.1)\n",
      "Requirement already satisfied: pip in c:\\users\\juanj\\desktop\\etl\\data\\.venv\\lib\\site-packages (from -r ../config/requirements.txt (line 5)) (24.0)\n",
      "Requirement already satisfied: psycopg2-binary in c:\\users\\juanj\\desktop\\etl\\data\\.venv\\lib\\site-packages (from -r ../config/requirements.txt (line 6)) (2.9.9)\n",
      "Requirement already satisfied: sqlalchemy in c:\\users\\juanj\\desktop\\etl\\data\\.venv\\lib\\site-packages (from -r ../config/requirements.txt (line 7)) (2.0.27)\n",
      "Requirement already satisfied: sqlalchemy-utils in c:\\users\\juanj\\desktop\\etl\\data\\.venv\\lib\\site-packages (from -r ../config/requirements.txt (line 8)) (0.41.1)\n",
      "Requirement already satisfied: mysqlclient in c:\\users\\juanj\\desktop\\etl\\data\\.venv\\lib\\site-packages (from -r ../config/requirements.txt (line 9)) (2.2.4)\n",
      "Requirement already satisfied: seaborn in c:\\users\\juanj\\desktop\\etl\\data\\.venv\\lib\\site-packages (from -r ../config/requirements.txt (line 10)) (0.13.2)\n",
      "Requirement already satisfied: mysql.connector in c:\\users\\juanj\\desktop\\etl\\data\\.venv\\lib\\site-packages (from -r ../config/requirements.txt (line 11)) (2.2.9)\n",
      "Requirement already satisfied: contourpy>=1.0.1 in c:\\users\\juanj\\desktop\\etl\\data\\.venv\\lib\\site-packages (from matplotlib->-r ../config/requirements.txt (line 2)) (1.2.0)\n",
      "Requirement already satisfied: cycler>=0.10 in c:\\users\\juanj\\desktop\\etl\\data\\.venv\\lib\\site-packages (from matplotlib->-r ../config/requirements.txt (line 2)) (0.12.1)\n",
      "Requirement already satisfied: fonttools>=4.22.0 in c:\\users\\juanj\\desktop\\etl\\data\\.venv\\lib\\site-packages (from matplotlib->-r ../config/requirements.txt (line 2)) (4.49.0)\n",
      "Requirement already satisfied: kiwisolver>=1.3.1 in c:\\users\\juanj\\desktop\\etl\\data\\.venv\\lib\\site-packages (from matplotlib->-r ../config/requirements.txt (line 2)) (1.4.5)\n",
      "Requirement already satisfied: packaging>=20.0 in c:\\users\\juanj\\desktop\\etl\\data\\.venv\\lib\\site-packages (from matplotlib->-r ../config/requirements.txt (line 2)) (23.2)\n",
      "Requirement already satisfied: pillow>=8 in c:\\users\\juanj\\desktop\\etl\\data\\.venv\\lib\\site-packages (from matplotlib->-r ../config/requirements.txt (line 2)) (10.2.0)\n",
      "Requirement already satisfied: pyparsing>=2.3.1 in c:\\users\\juanj\\desktop\\etl\\data\\.venv\\lib\\site-packages (from matplotlib->-r ../config/requirements.txt (line 2)) (3.1.1)\n",
      "Requirement already satisfied: python-dateutil>=2.7 in c:\\users\\juanj\\desktop\\etl\\data\\.venv\\lib\\site-packages (from matplotlib->-r ../config/requirements.txt (line 2)) (2.9.0.post0)\n",
      "Requirement already satisfied: pytz>=2020.1 in c:\\users\\juanj\\desktop\\etl\\data\\.venv\\lib\\site-packages (from pandas->-r ../config/requirements.txt (line 4)) (2024.1)\n",
      "Requirement already satisfied: tzdata>=2022.7 in c:\\users\\juanj\\desktop\\etl\\data\\.venv\\lib\\site-packages (from pandas->-r ../config/requirements.txt (line 4)) (2024.1)\n",
      "Requirement already satisfied: typing-extensions>=4.6.0 in c:\\users\\juanj\\desktop\\etl\\data\\.venv\\lib\\site-packages (from sqlalchemy->-r ../config/requirements.txt (line 7)) (4.10.0)\n",
      "Requirement already satisfied: greenlet!=0.4.17 in c:\\users\\juanj\\desktop\\etl\\data\\.venv\\lib\\site-packages (from sqlalchemy->-r ../config/requirements.txt (line 7)) (3.0.3)\n",
      "Requirement already satisfied: six>=1.5 in c:\\users\\juanj\\desktop\\etl\\data\\.venv\\lib\\site-packages (from python-dateutil>=2.7->matplotlib->-r ../config/requirements.txt (line 2)) (1.16.0)\n",
      "Note: you may need to restart the kernel to use updated packages.\n"
     ]
    }
   ],
   "source": [
    "pip install -r ../config/requirements.txt"
   ]
  },
  {
   "cell_type": "code",
   "execution_count": 2,
   "metadata": {},
   "outputs": [
    {
     "name": "stdout",
     "output_type": "stream",
     "text": [
      "Requirement already satisfied: mysql-connector-python in c:\\users\\juanj\\desktop\\etl\\data\\.venv\\lib\\site-packages (8.3.0)Note: you may need to restart the kernel to use updated packages.\n",
      "\n"
     ]
    }
   ],
   "source": [
    "pip install --upgrade mysql-connector-python\n"
   ]
  },
  {
   "cell_type": "code",
   "execution_count": 3,
   "metadata": {},
   "outputs": [
    {
     "name": "stdout",
     "output_type": "stream",
     "text": [
      "Requirement already satisfied: pandas in c:\\users\\juanj\\desktop\\etl\\data\\.venv\\lib\\site-packages (2.2.1)\n",
      "Requirement already satisfied: sqlalchemy in c:\\users\\juanj\\desktop\\etl\\data\\.venv\\lib\\site-packages (2.0.27)\n",
      "Requirement already satisfied: numpy<2,>=1.23.2 in c:\\users\\juanj\\desktop\\etl\\data\\.venv\\lib\\site-packages (from pandas) (1.26.4)\n",
      "Requirement already satisfied: python-dateutil>=2.8.2 in c:\\users\\juanj\\desktop\\etl\\data\\.venv\\lib\\site-packages (from pandas) (2.9.0.post0)\n",
      "Requirement already satisfied: pytz>=2020.1 in c:\\users\\juanj\\desktop\\etl\\data\\.venv\\lib\\site-packages (from pandas) (2024.1)\n",
      "Requirement already satisfied: tzdata>=2022.7 in c:\\users\\juanj\\desktop\\etl\\data\\.venv\\lib\\site-packages (from pandas) (2024.1)\n",
      "Requirement already satisfied: typing-extensions>=4.6.0 in c:\\users\\juanj\\desktop\\etl\\data\\.venv\\lib\\site-packages (from sqlalchemy) (4.10.0)\n",
      "Requirement already satisfied: greenlet!=0.4.17 in c:\\users\\juanj\\desktop\\etl\\data\\.venv\\lib\\site-packages (from sqlalchemy) (3.0.3)\n",
      "Requirement already satisfied: six>=1.5 in c:\\users\\juanj\\desktop\\etl\\data\\.venv\\lib\\site-packages (from python-dateutil>=2.8.2->pandas) (1.16.0)\n",
      "Note: you may need to restart the kernel to use updated packages.\n"
     ]
    }
   ],
   "source": [
    "pip install --upgrade pandas sqlalchemy\n"
   ]
  },
  {
   "cell_type": "code",
   "execution_count": 4,
   "metadata": {},
   "outputs": [],
   "source": [
    "import pandas as pd\n",
    "import sqlalchemy\n",
    "from sqlalchemy import create_engine\n",
    "import json\n",
    "import mysql.connector\n"
   ]
  },
  {
   "cell_type": "code",
   "execution_count": 5,
   "metadata": {},
   "outputs": [
    {
     "name": "stdout",
     "output_type": "stream",
     "text": [
      "<mysql.connector.connection_cext.CMySQLConnection object at 0x00000209A97A8AD0>\n"
     ]
    }
   ],
   "source": [
    "\n",
    "with open('../config/credentials.json', 'r') as json_file:\n",
    "    credentials = json.load(json_file)\n",
    "\n",
    "connection = mysql.connector.connect(\n",
    "    host=credentials['host'],\n",
    "    user=credentials['user'],\n",
    "    password=credentials['password'],\n",
    ")\n",
    "\n",
    "print(connection) "
   ]
  },
  {
   "cell_type": "code",
   "execution_count": 6,
   "metadata": {},
   "outputs": [],
   "source": [
    "cursor = connection.cursor()\n",
    "\n",
    "cursor.execute(\"CREATE DATABASE IF NOT EXISTS ETL\")\n",
    "\n",
    "cursor.execute(\"USE ETL\")\n",
    "\n",
    "cursor.execute(\"\"\"\n",
    "    CREATE TABLE IF NOT EXISTS airbnb_info (\n",
    "        hot_tub FLOAT,\n",
    "        pool FLOAT,\n",
    "        city VARCHAR(100),\n",
    "        host_type VARCHAR(100),\n",
    "        bedrooms FLOAT,\n",
    "        bathrooms FLOAT,\n",
    "        guests FLOAT,\n",
    "        revenue FLOAT,\n",
    "        openness FLOAT,\n",
    "        occupancy FLOAT,\n",
    "        nightly_rate FLOAT,\n",
    "        lead_time FLOAT,\n",
    "        length_stay FLOAT\n",
    "    )\n",
    "\"\"\")\n",
    "data = pd.read_csv('../data/clean_data.csv', sep=',')"
   ]
  },
  {
   "cell_type": "code",
   "execution_count": 7,
   "metadata": {},
   "outputs": [],
   "source": [
    "\"\"\" Declare the SQL classes for the database \"\"\"\n",
    "\n",
    "from sqlalchemy.orm import declarative_base\n",
    "from sqlalchemy import Column, Integer, String, Date, CheckConstraint\n",
    "\n",
    "BASE = declarative_base()\n",
    "\n",
    "\n",
    "class Candidates(BASE):\n",
    "    \"\"\"This class is to create the table candidates in the database from the csv.\"\"\"\n",
    "\n",
    "    __tablename__ = \"candidates\"\n",
    "\n",
    "    id = Column(Integer, primary_key=True)\n",
    "    first_name = Column(String(50))\n",
    "    last_name = Column(String(50))\n",
    "    email = Column(String(100))\n",
    "    applicant_date = Column(String(20))\n",
    "    country = Column(String(100))\n",
    "    experience_year = Column(String(40))\n",
    "    seniority = Column(String(40))\n",
    "    technology = Column(String(40))\n",
    "    code_challenge_score = Column(String(40))\n",
    "    technical_interview_score = Column(String(40))"
   ]
  },
  {
   "cell_type": "code",
   "execution_count": 8,
   "metadata": {},
   "outputs": [
    {
     "data": {
      "text/plain": [
       "23499"
      ]
     },
     "execution_count": 8,
     "metadata": {},
     "output_type": "execute_result"
    }
   ],
   "source": [
    "import pandas as pd\n",
    "import sqlalchemy\n",
    "from sqlalchemy import create_engine\n",
    "import json\n",
    "\n",
    "with open('../config/credentials.json', 'r') as json_file:\n",
    "    keys = json.load(json_file)\n",
    "    host = keys[\"host\"]\n",
    "    database = keys[\"database\"]\n",
    "    user = keys[\"user\"]\n",
    "    password = keys[\"password\"]\n",
    "\n",
    "database_connection = f\"mysql+mysqlconnector://{user}:{password}@{host}/{database}\"\n",
    "engine = create_engine(database_connection)\n",
    "\n",
    "data.to_sql(name='airbnb_info', con=engine, if_exists='replace', index=False)"
   ]
  },
  {
   "cell_type": "code",
   "execution_count": 9,
   "metadata": {},
   "outputs": [
    {
     "name": "stdout",
     "output_type": "stream",
     "text": [
      "<class 'pandas.core.frame.DataFrame'>\n",
      "RangeIndex: 23499 entries, 0 to 23498\n",
      "Data columns (total 13 columns):\n",
      " #   Column        Non-Null Count  Dtype  \n",
      "---  ------        --------------  -----  \n",
      " 0   hot_tub       23499 non-null  float64\n",
      " 1   pool          23499 non-null  float64\n",
      " 2   city          23499 non-null  object \n",
      " 3   host_type     23499 non-null  object \n",
      " 4   bedrooms      23499 non-null  float64\n",
      " 5   bathrooms     23499 non-null  float64\n",
      " 6   guests        23499 non-null  float64\n",
      " 7   revenue       23499 non-null  float64\n",
      " 8   openness      23499 non-null  float64\n",
      " 9   occupancy     23499 non-null  float64\n",
      " 10  nightly_rate  23499 non-null  float64\n",
      " 11  lead_time     23499 non-null  float64\n",
      " 12  length_stay   23499 non-null  float64\n",
      "dtypes: float64(11), object(2)\n",
      "memory usage: 2.3+ MB\n"
     ]
    }
   ],
   "source": [
    "data.info()"
   ]
  }
 ],
 "metadata": {
  "kernelspec": {
   "display_name": "Python 3",
   "language": "python",
   "name": "python3"
  },
  "language_info": {
   "codemirror_mode": {
    "name": "ipython",
    "version": 3
   },
   "file_extension": ".py",
   "mimetype": "text/x-python",
   "name": "python",
   "nbconvert_exporter": "python",
   "pygments_lexer": "ipython3",
   "version": "3.11.8"
  }
 },
 "nbformat": 4,
 "nbformat_minor": 2
}
