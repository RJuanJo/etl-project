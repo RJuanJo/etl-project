{
 "cells": [
  {
   "cell_type": "code",
   "execution_count": 1,
   "metadata": {},
   "outputs": [
    {
     "name": "stdout",
     "output_type": "stream",
     "text": [
      "Requirement already satisfied: mysql-connector-python in c:\\users\\playc\\appdata\\local\\programs\\python\\python312\\lib\\site-packages (8.3.0)\n",
      "Collecting mysql-connector-python\n",
      "  Downloading mysql_connector_python-8.4.0-cp312-cp312-win_amd64.whl.metadata (2.0 kB)\n",
      "Downloading mysql_connector_python-8.4.0-cp312-cp312-win_amd64.whl (14.5 MB)\n",
      "   ---------------------------------------- 0.0/14.5 MB ? eta -:--:--\n",
      "   ---------------------------------------- 0.0/14.5 MB ? eta -:--:--\n",
      "   ---------------------------------------- 0.0/14.5 MB ? eta -:--:--\n",
      "   ---------------------------------------- 0.0/14.5 MB ? eta -:--:--\n",
      "   ---------------------------------------- 0.0/14.5 MB ? eta -:--:--\n",
      "    --------------------------------------- 0.2/14.5 MB 1.3 MB/s eta 0:00:11\n",
      "    --------------------------------------- 0.4/14.5 MB 2.0 MB/s eta 0:00:07\n",
      "   - -------------------------------------- 0.6/14.5 MB 3.1 MB/s eta 0:00:05\n",
      "   - -------------------------------------- 0.6/14.5 MB 3.1 MB/s eta 0:00:05\n",
      "   -- ------------------------------------- 0.7/14.5 MB 2.3 MB/s eta 0:00:06\n",
      "   -- ------------------------------------- 0.7/14.5 MB 2.3 MB/s eta 0:00:06\n",
      "   -- ------------------------------------- 0.7/14.5 MB 2.3 MB/s eta 0:00:06\n",
      "   -- ------------------------------------- 0.9/14.5 MB 1.9 MB/s eta 0:00:08\n",
      "   -- ------------------------------------- 1.0/14.5 MB 2.0 MB/s eta 0:00:07\n",
      "   -- ------------------------------------- 1.0/14.5 MB 2.0 MB/s eta 0:00:07\n",
      "   -- ------------------------------------- 1.0/14.5 MB 2.0 MB/s eta 0:00:07\n",
      "   --- ------------------------------------ 1.1/14.5 MB 1.8 MB/s eta 0:00:08\n",
      "   --- ------------------------------------ 1.3/14.5 MB 1.9 MB/s eta 0:00:07\n",
      "   --- ------------------------------------ 1.3/14.5 MB 1.9 MB/s eta 0:00:08\n",
      "   --- ------------------------------------ 1.4/14.5 MB 1.9 MB/s eta 0:00:08\n",
      "   --- ------------------------------------ 1.4/14.5 MB 1.9 MB/s eta 0:00:08\n",
      "   ---- ----------------------------------- 1.5/14.5 MB 1.7 MB/s eta 0:00:08\n",
      "   ---- ----------------------------------- 1.6/14.5 MB 1.8 MB/s eta 0:00:08\n",
      "   ---- ----------------------------------- 1.8/14.5 MB 1.9 MB/s eta 0:00:07\n",
      "   ----- ---------------------------------- 2.0/14.5 MB 2.0 MB/s eta 0:00:07\n",
      "   ------ --------------------------------- 2.3/14.5 MB 2.2 MB/s eta 0:00:06\n",
      "   ------ --------------------------------- 2.3/14.5 MB 2.2 MB/s eta 0:00:06\n",
      "   ------ --------------------------------- 2.4/14.5 MB 2.1 MB/s eta 0:00:06\n",
      "   ------ --------------------------------- 2.4/14.5 MB 2.1 MB/s eta 0:00:06\n",
      "   ------ --------------------------------- 2.4/14.5 MB 2.1 MB/s eta 0:00:06\n",
      "   ------ --------------------------------- 2.4/14.5 MB 2.1 MB/s eta 0:00:06\n",
      "   ------ --------------------------------- 2.4/14.5 MB 1.9 MB/s eta 0:00:07\n",
      "   ------ --------------------------------- 2.4/14.5 MB 1.9 MB/s eta 0:00:07\n",
      "   ------- -------------------------------- 2.9/14.5 MB 2.1 MB/s eta 0:00:06\n",
      "   -------- ------------------------------- 3.1/14.5 MB 2.1 MB/s eta 0:00:06\n",
      "   --------- ------------------------------ 3.3/14.5 MB 2.2 MB/s eta 0:00:06\n",
      "   --------- ------------------------------ 3.5/14.5 MB 2.2 MB/s eta 0:00:05\n",
      "   --------- ------------------------------ 3.5/14.5 MB 2.2 MB/s eta 0:00:05\n",
      "   --------- ------------------------------ 3.5/14.5 MB 2.1 MB/s eta 0:00:06\n",
      "   --------- ------------------------------ 3.6/14.5 MB 2.1 MB/s eta 0:00:06\n",
      "   ---------- ----------------------------- 3.8/14.5 MB 2.2 MB/s eta 0:00:05\n",
      "   ---------- ----------------------------- 3.9/14.5 MB 2.2 MB/s eta 0:00:05\n",
      "   ----------- ---------------------------- 4.0/14.5 MB 2.2 MB/s eta 0:00:05\n",
      "   ----------- ---------------------------- 4.1/14.5 MB 2.3 MB/s eta 0:00:05\n",
      "   ----------- ---------------------------- 4.3/14.5 MB 2.3 MB/s eta 0:00:05\n",
      "   ------------ --------------------------- 4.4/14.5 MB 2.3 MB/s eta 0:00:05\n",
      "   ------------ --------------------------- 4.5/14.5 MB 2.3 MB/s eta 0:00:05\n",
      "   ------------ --------------------------- 4.7/14.5 MB 2.3 MB/s eta 0:00:05\n",
      "   ------------- -------------------------- 4.8/14.5 MB 2.4 MB/s eta 0:00:05\n",
      "   ------------- -------------------------- 4.9/14.5 MB 2.4 MB/s eta 0:00:05\n",
      "   ------------- -------------------------- 5.0/14.5 MB 2.4 MB/s eta 0:00:04\n",
      "   -------------- ------------------------- 5.2/14.5 MB 2.4 MB/s eta 0:00:04\n",
      "   -------------- ------------------------- 5.3/14.5 MB 2.4 MB/s eta 0:00:04\n",
      "   --------------- ------------------------ 5.5/14.5 MB 2.5 MB/s eta 0:00:04\n",
      "   --------------- ------------------------ 5.6/14.5 MB 2.5 MB/s eta 0:00:04\n",
      "   ---------------- ----------------------- 5.8/14.5 MB 2.5 MB/s eta 0:00:04\n",
      "   ---------------- ----------------------- 5.9/14.5 MB 2.5 MB/s eta 0:00:04\n",
      "   ---------------- ----------------------- 6.1/14.5 MB 2.5 MB/s eta 0:00:04\n",
      "   ----------------- ---------------------- 6.3/14.5 MB 2.6 MB/s eta 0:00:04\n",
      "   ----------------- ---------------------- 6.5/14.5 MB 2.6 MB/s eta 0:00:04\n",
      "   ------------------ --------------------- 6.6/14.5 MB 2.6 MB/s eta 0:00:04\n",
      "   ------------------ --------------------- 6.8/14.5 MB 2.6 MB/s eta 0:00:03\n",
      "   ------------------- -------------------- 7.0/14.5 MB 2.6 MB/s eta 0:00:03\n",
      "   ------------------- -------------------- 7.1/14.5 MB 2.7 MB/s eta 0:00:03\n",
      "   -------------------- ------------------- 7.3/14.5 MB 2.7 MB/s eta 0:00:03\n",
      "   -------------------- ------------------- 7.4/14.5 MB 2.7 MB/s eta 0:00:03\n",
      "   -------------------- ------------------- 7.5/14.5 MB 2.7 MB/s eta 0:00:03\n",
      "   --------------------- ------------------ 7.6/14.5 MB 2.7 MB/s eta 0:00:03\n",
      "   --------------------- ------------------ 7.6/14.5 MB 2.7 MB/s eta 0:00:03\n",
      "   --------------------- ------------------ 7.6/14.5 MB 2.7 MB/s eta 0:00:03\n",
      "   --------------------- ------------------ 7.8/14.5 MB 2.6 MB/s eta 0:00:03\n",
      "   --------------------- ------------------ 7.8/14.5 MB 2.5 MB/s eta 0:00:03\n",
      "   ---------------------- ----------------- 8.0/14.5 MB 2.6 MB/s eta 0:00:03\n",
      "   ---------------------- ----------------- 8.1/14.5 MB 2.6 MB/s eta 0:00:03\n",
      "   ---------------------- ----------------- 8.2/14.5 MB 2.6 MB/s eta 0:00:03\n",
      "   ----------------------- ---------------- 8.4/14.5 MB 2.6 MB/s eta 0:00:03\n",
      "   ----------------------- ---------------- 8.5/14.5 MB 2.6 MB/s eta 0:00:03\n",
      "   ----------------------- ---------------- 8.6/14.5 MB 2.6 MB/s eta 0:00:03\n",
      "   ------------------------ --------------- 8.8/14.5 MB 2.6 MB/s eta 0:00:03\n",
      "   ------------------------ --------------- 9.0/14.5 MB 2.6 MB/s eta 0:00:03\n",
      "   ------------------------- -------------- 9.2/14.5 MB 2.6 MB/s eta 0:00:02\n",
      "   ------------------------- -------------- 9.4/14.5 MB 2.6 MB/s eta 0:00:02\n",
      "   -------------------------- ------------- 9.5/14.5 MB 2.7 MB/s eta 0:00:02\n",
      "   -------------------------- ------------- 9.7/14.5 MB 2.7 MB/s eta 0:00:02\n",
      "   --------------------------- ------------ 9.9/14.5 MB 2.7 MB/s eta 0:00:02\n",
      "   --------------------------- ------------ 10.1/14.5 MB 2.7 MB/s eta 0:00:02\n",
      "   ---------------------------- ----------- 10.3/14.5 MB 2.8 MB/s eta 0:00:02\n",
      "   ---------------------------- ----------- 10.5/14.5 MB 2.8 MB/s eta 0:00:02\n",
      "   ----------------------------- ---------- 10.7/14.5 MB 2.8 MB/s eta 0:00:02\n",
      "   ------------------------------ --------- 10.9/14.5 MB 2.9 MB/s eta 0:00:02\n",
      "   ------------------------------ --------- 11.0/14.5 MB 2.9 MB/s eta 0:00:02\n",
      "   ------------------------------- -------- 11.2/14.5 MB 2.9 MB/s eta 0:00:02\n",
      "   ------------------------------- -------- 11.2/14.5 MB 2.9 MB/s eta 0:00:02\n",
      "   ------------------------------- -------- 11.4/14.5 MB 3.0 MB/s eta 0:00:02\n",
      "   ------------------------------- -------- 11.5/14.5 MB 3.0 MB/s eta 0:00:01\n",
      "   -------------------------------- ------- 11.8/14.5 MB 3.1 MB/s eta 0:00:01\n",
      "   -------------------------------- ------- 11.8/14.5 MB 3.1 MB/s eta 0:00:01\n",
      "   --------------------------------- ------ 12.1/14.5 MB 3.1 MB/s eta 0:00:01\n",
      "   ----------------------------------- ---- 12.7/14.5 MB 3.5 MB/s eta 0:00:01\n",
      "   ------------------------------------ --- 13.0/14.5 MB 3.5 MB/s eta 0:00:01\n",
      "   ------------------------------------ --- 13.3/14.5 MB 3.5 MB/s eta 0:00:01\n",
      "   ------------------------------------ --- 13.3/14.5 MB 3.4 MB/s eta 0:00:01\n",
      "   ------------------------------------- -- 13.6/14.5 MB 3.5 MB/s eta 0:00:01\n",
      "   -------------------------------------- - 13.9/14.5 MB 3.6 MB/s eta 0:00:01\n",
      "   ---------------------------------------  14.2/14.5 MB 3.7 MB/s eta 0:00:01\n",
      "   ---------------------------------------  14.4/14.5 MB 3.7 MB/s eta 0:00:01\n",
      "   ---------------------------------------  14.4/14.5 MB 3.7 MB/s eta 0:00:01\n",
      "   ---------------------------------------  14.4/14.5 MB 3.7 MB/s eta 0:00:01\n",
      "   ---------------------------------------  14.4/14.5 MB 3.7 MB/s eta 0:00:01\n",
      "   ---------------------------------------  14.4/14.5 MB 3.7 MB/s eta 0:00:01\n",
      "   ---------------------------------------  14.4/14.5 MB 3.7 MB/s eta 0:00:01\n",
      "   ---------------------------------------  14.4/14.5 MB 3.7 MB/s eta 0:00:01\n",
      "   ---------------------------------------  14.4/14.5 MB 3.7 MB/s eta 0:00:01\n",
      "   ---------------------------------------  14.4/14.5 MB 3.7 MB/s eta 0:00:01\n",
      "   ---------------------------------------  14.4/14.5 MB 3.7 MB/s eta 0:00:01\n",
      "   ---------------------------------------  14.4/14.5 MB 3.7 MB/s eta 0:00:01\n",
      "   ---------------------------------------  14.4/14.5 MB 3.7 MB/s eta 0:00:01\n",
      "   ---------------------------------------  14.4/14.5 MB 3.7 MB/s eta 0:00:01\n",
      "   ---------------------------------------- 14.5/14.5 MB 3.1 MB/s eta 0:00:00\n",
      "Installing collected packages: mysql-connector-python\n",
      "  Attempting uninstall: mysql-connector-python\n",
      "    Found existing installation: mysql-connector-python 8.3.0\n",
      "    Uninstalling mysql-connector-python-8.3.0:\n",
      "      Successfully uninstalled mysql-connector-python-8.3.0\n",
      "Successfully installed mysql-connector-python-8.4.0\n",
      "Note: you may need to restart the kernel to use updated packages.\n"
     ]
    },
    {
     "name": "stderr",
     "output_type": "stream",
     "text": [
      "  WARNING: Failed to remove contents in a temporary directory 'C:\\Users\\playc\\AppData\\Local\\Temp\\pip-uninstall-rrfj30q6'.\n",
      "  You can safely remove it manually.\n"
     ]
    }
   ],
   "source": [
    "pip install --upgrade mysql-connector-python"
   ]
  },
  {
   "cell_type": "code",
   "execution_count": 2,
   "metadata": {},
   "outputs": [
    {
     "name": "stdout",
     "output_type": "stream",
     "text": [
      "Requirement already satisfied: pandas in c:\\users\\playc\\appdata\\local\\programs\\python\\python312\\lib\\site-packages (2.2.2)\n",
      "Requirement already satisfied: sqlalchemy in c:\\users\\playc\\appdata\\local\\programs\\python\\python312\\lib\\site-packages (2.0.30)\n",
      "Requirement already satisfied: numpy>=1.26.0 in c:\\users\\playc\\appdata\\local\\programs\\python\\python312\\lib\\site-packages (from pandas) (1.26.4)\n",
      "Requirement already satisfied: python-dateutil>=2.8.2 in c:\\users\\playc\\appdata\\roaming\\python\\python312\\site-packages (from pandas) (2.8.2)\n",
      "Requirement already satisfied: pytz>=2020.1 in c:\\users\\playc\\appdata\\local\\programs\\python\\python312\\lib\\site-packages (from pandas) (2024.1)\n",
      "Requirement already satisfied: tzdata>=2022.7 in c:\\users\\playc\\appdata\\local\\programs\\python\\python312\\lib\\site-packages (from pandas) (2024.1)\n",
      "Requirement already satisfied: typing-extensions>=4.6.0 in c:\\users\\playc\\appdata\\local\\programs\\python\\python312\\lib\\site-packages (from sqlalchemy) (4.9.0)\n",
      "Requirement already satisfied: greenlet!=0.4.17 in c:\\users\\playc\\appdata\\local\\programs\\python\\python312\\lib\\site-packages (from sqlalchemy) (3.0.3)\n",
      "Requirement already satisfied: six>=1.5 in c:\\users\\playc\\appdata\\roaming\\python\\python312\\site-packages (from python-dateutil>=2.8.2->pandas) (1.16.0)\n",
      "Note: you may need to restart the kernel to use updated packages.\n"
     ]
    }
   ],
   "source": [
    "pip install --upgrade pandas sqlalchemy"
   ]
  },
  {
   "cell_type": "code",
   "execution_count": 3,
   "metadata": {},
   "outputs": [],
   "source": [
    "import pandas as pd\n",
    "import sqlalchemy\n",
    "from sqlalchemy import create_engine\n",
    "import json\n",
    "import mysql.connector\n",
    "import matplotlib.pyplot as plt   \n",
    "import seaborn as sns"
   ]
  },
  {
   "cell_type": "code",
   "execution_count": 4,
   "metadata": {},
   "outputs": [
    {
     "name": "stdout",
     "output_type": "stream",
     "text": [
      "<mysql.connector.connection_cext.CMySQLConnection object at 0x000001F3AB017A40>\n"
     ]
    }
   ],
   "source": [
    "import json\n",
    "import mysql.connector\n",
    "with open('credentials.json', 'r') as json_file:\n",
    "    credentials = json.load(json_file)\n",
    "    \n",
    "connection = mysql.connector.connect(\n",
    "    host=credentials['host'],\n",
    "    user=credentials['user'],\n",
    "    password=credentials['password'],\n",
    ")\n",
    "\n",
    "print(connection)    "
   ]
  }
 ],
 "metadata": {
  "kernelspec": {
   "display_name": "Python 3",
   "language": "python",
   "name": "python3"
  },
  "language_info": {
   "codemirror_mode": {
    "name": "ipython",
    "version": 3
   },
   "file_extension": ".py",
   "mimetype": "text/x-python",
   "name": "python",
   "nbconvert_exporter": "python",
   "pygments_lexer": "ipython3",
   "version": "3.12.2"
  }
 },
 "nbformat": 4,
 "nbformat_minor": 2
}
