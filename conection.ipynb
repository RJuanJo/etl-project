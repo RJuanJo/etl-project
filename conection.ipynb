{
 "cells": [
  {
   "cell_type": "code",
   "execution_count": 6,
   "metadata": {},
   "outputs": [
    {
     "name": "stdout",
     "output_type": "stream",
     "text": [
      "<mysql.connector.connection_cext.CMySQLConnection object at 0x000001A2E60D92B0>\n"
     ]
    }
   ],
   "source": [
    "import mysql.connector\n",
    "import json\n",
    "\n",
    "with open('credentials.json', 'r') as json_file:\n",
    "    credentials = json.load(json_file)\n",
    "\n",
    "connection = mysql.connector.connect(\n",
    "    host=credentials['host'],\n",
    "    user=credentials['user'],\n",
    "    password=credentials['password'],\n",
    ")\n",
    "\n",
    "print(connection) "
   ]
  },
  {
   "cell_type": "code",
   "execution_count": 8,
   "metadata": {},
   "outputs": [],
   "source": [
    "cursor = connection.cursor()\n",
    "\n",
    "cursor.execute(\"CREATE DATABASE IF NOT EXISTS ETL\")\n",
    "\n",
    "cursor.execute(\"USE ETL\")\n",
    "\n",
    "cursor.execute(\"\"\"\n",
    "        CREATE TABLE IF NOT EXISTS airbnb_info (\n",
    "            hot_tub INT,\n",
    "            pool INT,\n",
    "            city VARCHAR(100),\n",
    "            host_types varchar(100),\n",
    "            Country VARCHAR(70),\n",
    "            bedrooms INT,\n",
    "            Bathrooms INT,\n",
    "            guests INT,\n",
    "            revenue INT,\n",
    "            openness INT,\n",
    "            occupancy INT,\n",
    "            nightly_rate INT,\n",
    "            lead_time INT,\n",
    "            length_stay INT\n",
    "        )\n",
    "    \"\"\")"
   ]
  },
  {
   "cell_type": "code",
   "execution_count": 1,
   "metadata": {},
   "outputs": [
    {
     "name": "stderr",
     "output_type": "stream",
     "text": [
      "C:\\Users\\playc\\AppData\\Local\\Temp\\ipykernel_16280\\662330417.py:1: DeprecationWarning: \n",
      "Pyarrow will become a required dependency of pandas in the next major release of pandas (pandas 3.0),\n",
      "(to allow more performant data types, such as the Arrow string type, and better interoperability with other libraries)\n",
      "but was not found to be installed on your system.\n",
      "If this would cause problems for you,\n",
      "please provide us feedback at https://github.com/pandas-dev/pandas/issues/54466\n",
      "        \n",
      "  import pandas as pd\n"
     ]
    },
    {
     "data": {
      "text/plain": [
       "23499"
      ]
     },
     "execution_count": 1,
     "metadata": {},
     "output_type": "execute_result"
    }
   ],
   "source": [
    "import pandas as pd\n",
    "from sqlalchemy import create_engine\n",
    "import json\n",
    "\n",
    "with open('credentials.json', 'r') as json_file:\n",
    "    credentials = json.load(json_file)\n",
    "\n",
    "data = pd.read_csv('clean_data.csv', sep=',')\n",
    "\n",
    "engine = create_engine(\n",
    "    f\"mysql+mysqlconnector://{credentials['user']}:{credentials['password']}@{credentials['host']}/{credentials['database']}\"\n",
    ")\n",
    "\n",
    "\n",
    "data.to_sql(name='airbnb_info', con=engine, if_exists='replace', index=False)"
   ]
  }
 ],
 "metadata": {
  "kernelspec": {
   "display_name": "Python 3",
   "language": "python",
   "name": "python3"
  },
  "language_info": {
   "codemirror_mode": {
    "name": "ipython",
    "version": 3
   },
   "file_extension": ".py",
   "mimetype": "text/x-python",
   "name": "python",
   "nbconvert_exporter": "python",
   "pygments_lexer": "ipython3",
   "version": "3.12.2"
  }
 },
 "nbformat": 4,
 "nbformat_minor": 2
}
